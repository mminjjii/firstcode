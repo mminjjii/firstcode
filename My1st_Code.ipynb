{
  "nbformat": 4,
  "nbformat_minor": 0,
  "metadata": {
    "colab": {
      "provenance": [],
      "authorship_tag": "ABX9TyNKPVcVuML3hqpffV8XPiVQ",
      "include_colab_link": true
    },
    "kernelspec": {
      "name": "python3",
      "display_name": "Python 3"
    },
    "language_info": {
      "name": "python"
    }
  },
  "cells": [
    {
      "cell_type": "markdown",
      "metadata": {
        "id": "view-in-github",
        "colab_type": "text"
      },
      "source": [
        "<a href=\"https://colab.research.google.com/github/mminjjii/firstcode/blob/main/My1st_Code.ipynb\" target=\"_parent\"><img src=\"https://colab.research.google.com/assets/colab-badge.svg\" alt=\"Open In Colab\"/></a>"
      ]
    },
    {
      "cell_type": "markdown",
      "source": [
        "  1.나의 생애 첫 코드작성(Hello World)"
      ],
      "metadata": {
        "id": "L2Ig-SqIiDqP"
      }
    },
    {
      "cell_type": "markdown",
      "source": [
        "1.나의 생애 첫 코드작성(Hello World)"
      ],
      "metadata": {
        "id": "ogyPXBGWjD_o"
      }
    },
    {
      "cell_type": "code",
      "source": [
        "print(\"hello world\")"
      ],
      "metadata": {
        "colab": {
          "base_uri": "https://localhost:8080/"
        },
        "id": "mqZGisSvh1Wf",
        "outputId": "d204b699-0dac-45c5-91a7-82f389a717fb"
      },
      "execution_count": 7,
      "outputs": [
        {
          "output_type": "stream",
          "name": "stdout",
          "text": [
            "hello world\n"
          ]
        }
      ]
    },
    {
      "cell_type": "markdown",
      "source": [
        "2. 사칙연산(+, -, *, /)"
      ],
      "metadata": {
        "id": "GeEzAfktkCTn"
      }
    },
    {
      "cell_type": "code",
      "source": [
        " print(4+4, 4-2, 4*4, 4//2)"
      ],
      "metadata": {
        "colab": {
          "base_uri": "https://localhost:8080/"
        },
        "id": "Lc51J7vJkTJG",
        "outputId": "249ce0aa-e76c-4df8-c724-7a53222107c2"
      },
      "execution_count": 10,
      "outputs": [
        {
          "output_type": "stream",
          "name": "stdout",
          "text": [
            "8 2 16 2\n"
          ]
        }
      ]
    },
    {
      "cell_type": "code",
      "source": [],
      "metadata": {
        "id": "CFnQ2fjEq2Re"
      },
      "execution_count": null,
      "outputs": []
    }
  ]
}