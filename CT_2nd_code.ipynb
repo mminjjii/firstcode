{
  "nbformat": 4,
  "nbformat_minor": 0,
  "metadata": {
    "colab": {
      "provenance": [],
      "authorship_tag": "ABX9TyOAhZQum7JeK17vtD6Ls1ve",
      "include_colab_link": true
    },
    "kernelspec": {
      "name": "python3",
      "display_name": "Python 3"
    },
    "language_info": {
      "name": "python"
    }
  },
  "cells": [
    {
      "cell_type": "markdown",
      "metadata": {
        "id": "view-in-github",
        "colab_type": "text"
      },
      "source": [
        "<a href=\"https://colab.research.google.com/github/mminjjii/firstcode/blob/main/CT_2nd_code.ipynb\" target=\"_parent\"><img src=\"https://colab.research.google.com/assets/colab-badge.svg\" alt=\"Open In Colab\"/></a>"
      ]
    },
    {
      "cell_type": "markdown",
      "source": [
        "2.사용자로 부터 3개의 변수를 입력 받아서 합을 구하고,평균울 구하는 코드\n",
        "  - 변수는:n1,n2,n3,total,average\n"
      ],
      "metadata": {
        "id": "nuFN3Dj4lTCu"
      }
    },
    {
      "cell_type": "code",
      "execution_count": null,
      "metadata": {
        "id": "Wof9m8klk2-y"
      },
      "outputs": [],
      "source": []
    },
    {
      "cell_type": "markdown",
      "source": [
        "n1 = int(input(\"n1의 값을 입력하시오.: \"))\n",
        "n2 = int(input(\"n2의 값을 입력하시오.: \"))\n",
        "n3 = int(input(\"n3의 값을 입력하시오.: \"))\n",
        "total = n1 + n2 + n3\n",
        "ptint('합계는 :',total)\n",
        "average = total / 3\n",
        "print(평균은 :', average)\n"
      ],
      "metadata": {
        "id": "WZavl448muH-"
      }
    }
  ]
}